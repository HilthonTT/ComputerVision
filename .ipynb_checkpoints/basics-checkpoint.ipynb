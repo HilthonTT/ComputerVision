{
 "cells": [
  {
   "cell_type": "markdown",
   "id": "94a4741f-846c-4ace-aa37-ea8336d47e31",
   "metadata": {},
   "source": [
    "## 1. Import Dependencies"
   ]
  },
  {
   "cell_type": "code",
   "execution_count": 1,
   "id": "01618771-72fa-4a46-ab14-de958801a3ea",
   "metadata": {
    "tags": []
   },
   "outputs": [],
   "source": [
    "import tensorflow as tf"
   ]
  },
  {
   "cell_type": "markdown",
   "id": "7ae6c34c-10cb-4b1e-8d49-fd8836d8c4f4",
   "metadata": {},
   "source": [
    "## 1.1 Introductions to tensors"
   ]
  },
  {
   "cell_type": "code",
   "execution_count": 4,
   "id": "ef0dfbff-6f32-42e7-806c-783ecd788019",
   "metadata": {
    "tags": []
   },
   "outputs": [
    {
     "name": "stdout",
     "output_type": "stream",
     "text": [
      "tf.Tensor(4, shape=(), dtype=int32)\n"
     ]
    }
   ],
   "source": [
    "tensor_zero_d = tf.constant(4)\n",
    "print(tensor_zero_d)"
   ]
  },
  {
   "cell_type": "code",
   "execution_count": 5,
   "id": "3958c19e-b25f-405f-b13b-cc40d1a3870b",
   "metadata": {
    "tags": []
   },
   "outputs": [
    {
     "name": "stdout",
     "output_type": "stream",
     "text": [
      "tf.Tensor([ 2.  0. -3.  8. 90.], shape=(5,), dtype=float32)\n"
     ]
    }
   ],
   "source": [
    "tensor_one_d = tf.constant([2,0,-3,8,90.])\n",
    "print(tensor_one_d)"
   ]
  },
  {
   "cell_type": "code",
   "execution_count": 15,
   "id": "3af9da11-498b-4f63-ba8f-13fb1a6439c0",
   "metadata": {
    "tags": []
   },
   "outputs": [
    {
     "name": "stdout",
     "output_type": "stream",
     "text": [
      "tf.Tensor(\n",
      "[[ 1  2  0]\n",
      " [ 3  5 -1]\n",
      " [ 1  5  6]\n",
      " [ 2  3  8]], shape=(4, 3), dtype=int32)\n",
      "(4, 3)\n"
     ]
    }
   ],
   "source": [
    "tensor_two_d = tf.constant([\n",
    "    [1,2,0],\n",
    "    [3,5,-1],\n",
    "    [1,5,6],\n",
    "    [2,3,8]\n",
    "])\n",
    "print(tensor_two_d)\n",
    "print(tensor_two_d.shape)"
   ]
  },
  {
   "cell_type": "code",
   "execution_count": 24,
   "id": "c7f424aa-19ab-48fb-a6d7-2bbdc997930b",
   "metadata": {
    "tags": []
   },
   "outputs": [
    {
     "name": "stdout",
     "output_type": "stream",
     "text": [
      "tf.Tensor(\n",
      "[[[ 1  2  0]\n",
      "  [ 3  5 -1]]\n",
      "\n",
      " [[10  2  0]\n",
      "  [ 1  0  2]]\n",
      "\n",
      " [[ 5  8  0]\n",
      "  [ 2  7  0]]\n",
      "\n",
      " [[ 2  1  9]\n",
      "  [ 4 -3 32]]], shape=(4, 2, 3), dtype=int32)\n",
      "3\n"
     ]
    }
   ],
   "source": [
    "tensor_three_d = tf.constant([\n",
    "    [[1,2,0],\n",
    "     [3,5,-1]],\n",
    "    \n",
    "    [[10,2,0],\n",
    "     [1,0,2]],\n",
    "    \n",
    "    [[5,8,0],\n",
    "     [2,7,0]],\n",
    "    \n",
    "    [[2,1,9],\n",
    "     [4,-3,32]]\n",
    "])\n",
    "print(tensor_three_d)\n",
    "print(tensor_three_d.ndim)"
   ]
  },
  {
   "cell_type": "code",
   "execution_count": 44,
   "id": "68e08214-aa60-49c9-871c-671a48f478a1",
   "metadata": {
    "tags": []
   },
   "outputs": [
    {
     "name": "stdout",
     "output_type": "stream",
     "text": [
      "(2, 4, 2, 3)\n",
      "4\n",
      "tf.Tensor(\n",
      "[[[[ 1  2  0]\n",
      "   [ 3  5 -1]]\n",
      "\n",
      "  [[10  2  0]\n",
      "   [ 1  0  2]]\n",
      "\n",
      "  [[ 5  8  0]\n",
      "   [ 2  7  0]]\n",
      "\n",
      "  [[ 2  1  9]\n",
      "   [ 4 -3 32]]]\n",
      "\n",
      "\n",
      " [[[ 1  2  0]\n",
      "   [ 3  5 -1]]\n",
      "\n",
      "  [[10  2  0]\n",
      "   [ 1  0  2]]\n",
      "\n",
      "  [[ 5  8  0]\n",
      "   [ 2  7  0]]\n",
      "\n",
      "  [[ 2  1  9]\n",
      "   [ 4 -3 32]]]], shape=(2, 4, 2, 3), dtype=int8)\n"
     ]
    }
   ],
   "source": [
    "tensor_four_d = tf.constant([\n",
    "    [[[1,2,0],\n",
    "     [3,5,-1]],\n",
    "    \n",
    "    [[10,2,0],\n",
    "     [1,0,2]],\n",
    "    \n",
    "    [[5,8,0],\n",
    "     [2,7,0]],\n",
    "    \n",
    "    [[2,1,9],\n",
    "     [4,-3,32]]],\n",
    "     [[[1,2,0],\n",
    "     [3,5,-1]],\n",
    "    \n",
    "    [[10,2,0],\n",
    "     [1,0,2]],\n",
    "    \n",
    "    [[5,8,0],\n",
    "     [2,7,0]],\n",
    "    \n",
    "    [[2,1,9],\n",
    "     [4,-3,32]]]\n",
    "], dtype=tf.float32)\n",
    "print(tensor_four_d.shape)\n",
    "print(tensor_four_d.ndim)\n",
    "print(tensor_four_d)"
   ]
  },
  {
   "cell_type": "markdown",
   "id": "b15b1d1d-d841-48b5-9633-e12687c1abaa",
   "metadata": {},
   "source": [
    "## 1.2 Tensor Casting"
   ]
  },
  {
   "cell_type": "code",
   "execution_count": 58,
   "id": "82b81718-59db-466d-b5d1-511ad5eb6afa",
   "metadata": {
    "tags": []
   },
   "outputs": [],
   "source": [
    "import numpy as np"
   ]
  },
  {
   "cell_type": "code",
   "execution_count": 49,
   "id": "3e16d34e-b101-4735-b480-7326b4381037",
   "metadata": {
    "tags": []
   },
   "outputs": [
    {
     "name": "stdout",
     "output_type": "stream",
     "text": [
      "tf.Tensor([ 2.  0. -3.  8. 90.], shape=(5,), dtype=float32)\n",
      "tf.Tensor([ True False  True  True  True], shape=(5,), dtype=bool)\n"
     ]
    }
   ],
   "source": [
    "casted_tensor_one_d = tf.cast(tensor_one_d, dtype=tf.bool)\n",
    "print(tensor_one_d)\n",
    "print(casted_tensor_one_d)"
   ]
  },
  {
   "cell_type": "code",
   "execution_count": 51,
   "id": "ceccc79d-40ff-4c29-8999-98cf7185b82f",
   "metadata": {
    "tags": []
   },
   "outputs": [
    {
     "name": "stdout",
     "output_type": "stream",
     "text": [
      "tf.Tensor([ True  True False], shape=(3,), dtype=bool)\n"
     ]
    }
   ],
   "source": [
    "tensor_bool = tf.constant([True, True, False])\n",
    "print(tensor_bool)"
   ]
  },
  {
   "cell_type": "code",
   "execution_count": 57,
   "id": "14d186cb-042a-4968-9e24-1b6509d94e76",
   "metadata": {
    "tags": []
   },
   "outputs": [],
   "source": [
    "casted_string = tf.constant([\"hello world\", \"hi\"])"
   ]
  },
  {
   "cell_type": "code",
   "execution_count": 59,
   "id": "c38d48d0-ba0a-420e-8cfd-b87478b27b29",
   "metadata": {
    "tags": []
   },
   "outputs": [
    {
     "name": "stdout",
     "output_type": "stream",
     "text": [
      "[1 2 4]\n"
     ]
    }
   ],
   "source": [
    "np_array = np.array([1,2,4])\n",
    "print(np_array)"
   ]
  },
  {
   "cell_type": "code",
   "execution_count": 61,
   "id": "760d3b76-399d-4d87-8da5-02e296e5d929",
   "metadata": {
    "tags": []
   },
   "outputs": [
    {
     "name": "stdout",
     "output_type": "stream",
     "text": [
      "tf.Tensor([1 2 4], shape=(3,), dtype=int32)\n"
     ]
    }
   ],
   "source": [
    "converted_tensor = tf.convert_to_tensor(np_array)\n",
    "print(converted_tensor)"
   ]
  },
  {
   "cell_type": "code",
   "execution_count": 65,
   "id": "86c7d1fc-92b8-4478-bd04-237058060c31",
   "metadata": {
    "tags": []
   },
   "outputs": [
    {
     "name": "stdout",
     "output_type": "stream",
     "text": [
      "tf.Tensor(\n",
      "[[1. 0. 0.]\n",
      " [0. 1. 0.]\n",
      " [0. 0. 1.]], shape=(3, 3), dtype=float32)\n"
     ]
    }
   ],
   "source": [
    "eye_tensor = tf.eye(num_rows=3)\n",
    "print(eye_tensor)"
   ]
  },
  {
   "cell_type": "code",
   "execution_count": null,
   "id": "fc830c73-41dd-470c-80d4-192ded0c2aed",
   "metadata": {},
   "outputs": [],
   "source": []
  }
 ],
 "metadata": {
  "kernelspec": {
   "display_name": "py310",
   "language": "python",
   "name": "py310"
  },
  "language_info": {
   "codemirror_mode": {
    "name": "ipython",
    "version": 3
   },
   "file_extension": ".py",
   "mimetype": "text/x-python",
   "name": "python",
   "nbconvert_exporter": "python",
   "pygments_lexer": "ipython3",
   "version": "3.10.13"
  }
 },
 "nbformat": 4,
 "nbformat_minor": 5
}
