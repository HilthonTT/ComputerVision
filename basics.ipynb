{
 "cells": [
  {
   "cell_type": "markdown",
   "id": "94a4741f-846c-4ace-aa37-ea8336d47e31",
   "metadata": {},
   "source": [
    "## 1. Import Dependencies"
   ]
  },
  {
   "cell_type": "code",
   "execution_count": 1,
   "id": "01618771-72fa-4a46-ab14-de958801a3ea",
   "metadata": {
    "tags": []
   },
   "outputs": [],
   "source": [
    "import tensorflow as tf"
   ]
  },
  {
   "cell_type": "markdown",
   "id": "7ae6c34c-10cb-4b1e-8d49-fd8836d8c4f4",
   "metadata": {},
   "source": [
    "## 1.1 Introductions to tensors"
   ]
  },
  {
   "cell_type": "code",
   "execution_count": 2,
   "id": "ef0dfbff-6f32-42e7-806c-783ecd788019",
   "metadata": {
    "tags": []
   },
   "outputs": [
    {
     "name": "stdout",
     "output_type": "stream",
     "text": [
      "tf.Tensor(4, shape=(), dtype=int32)\n"
     ]
    }
   ],
   "source": [
    "tensor_zero_d = tf.constant(4)\n",
    "print(tensor_zero_d)"
   ]
  },
  {
   "cell_type": "code",
   "execution_count": 3,
   "id": "3958c19e-b25f-405f-b13b-cc40d1a3870b",
   "metadata": {
    "tags": []
   },
   "outputs": [
    {
     "name": "stdout",
     "output_type": "stream",
     "text": [
      "tf.Tensor([ 2.  0. -3.  8. 90.], shape=(5,), dtype=float32)\n"
     ]
    }
   ],
   "source": [
    "tensor_one_d = tf.constant([2,0,-3,8,90.])\n",
    "print(tensor_one_d)"
   ]
  },
  {
   "cell_type": "code",
   "execution_count": 4,
   "id": "3af9da11-498b-4f63-ba8f-13fb1a6439c0",
   "metadata": {
    "tags": []
   },
   "outputs": [
    {
     "name": "stdout",
     "output_type": "stream",
     "text": [
      "tf.Tensor(\n",
      "[[ 1  2  0]\n",
      " [ 3  5 -1]\n",
      " [ 1  5  6]\n",
      " [ 2  3  8]], shape=(4, 3), dtype=int32)\n",
      "(4, 3)\n"
     ]
    }
   ],
   "source": [
    "tensor_two_d = tf.constant([\n",
    "    [1,2,0],\n",
    "    [3,5,-1],\n",
    "    [1,5,6],\n",
    "    [2,3,8]\n",
    "])\n",
    "print(tensor_two_d)\n",
    "print(tensor_two_d.shape)"
   ]
  },
  {
   "cell_type": "code",
   "execution_count": 5,
   "id": "c7f424aa-19ab-48fb-a6d7-2bbdc997930b",
   "metadata": {
    "tags": []
   },
   "outputs": [
    {
     "name": "stdout",
     "output_type": "stream",
     "text": [
      "tf.Tensor(\n",
      "[[[ 1  2  0]\n",
      "  [ 3  5 -1]]\n",
      "\n",
      " [[10  2  0]\n",
      "  [ 1  0  2]]\n",
      "\n",
      " [[ 5  8  0]\n",
      "  [ 2  7  0]]\n",
      "\n",
      " [[ 2  1  9]\n",
      "  [ 4 -3 32]]], shape=(4, 2, 3), dtype=int32)\n",
      "3\n"
     ]
    }
   ],
   "source": [
    "tensor_three_d = tf.constant([\n",
    "    [[1,2,0],\n",
    "     [3,5,-1]],\n",
    "    \n",
    "    [[10,2,0],\n",
    "     [1,0,2]],\n",
    "    \n",
    "    [[5,8,0],\n",
    "     [2,7,0]],\n",
    "    \n",
    "    [[2,1,9],\n",
    "     [4,-3,32]]\n",
    "])\n",
    "print(tensor_three_d)\n",
    "print(tensor_three_d.ndim)"
   ]
  },
  {
   "cell_type": "code",
   "execution_count": 6,
   "id": "68e08214-aa60-49c9-871c-671a48f478a1",
   "metadata": {
    "tags": []
   },
   "outputs": [
    {
     "name": "stdout",
     "output_type": "stream",
     "text": [
      "(2, 4, 2, 3)\n",
      "4\n",
      "tf.Tensor(\n",
      "[[[[ 1.  2.  0.]\n",
      "   [ 3.  5. -1.]]\n",
      "\n",
      "  [[10.  2.  0.]\n",
      "   [ 1.  0.  2.]]\n",
      "\n",
      "  [[ 5.  8.  0.]\n",
      "   [ 2.  7.  0.]]\n",
      "\n",
      "  [[ 2.  1.  9.]\n",
      "   [ 4. -3. 32.]]]\n",
      "\n",
      "\n",
      " [[[ 1.  2.  0.]\n",
      "   [ 3.  5. -1.]]\n",
      "\n",
      "  [[10.  2.  0.]\n",
      "   [ 1.  0.  2.]]\n",
      "\n",
      "  [[ 5.  8.  0.]\n",
      "   [ 2.  7.  0.]]\n",
      "\n",
      "  [[ 2.  1.  9.]\n",
      "   [ 4. -3. 32.]]]], shape=(2, 4, 2, 3), dtype=float32)\n"
     ]
    }
   ],
   "source": [
    "tensor_four_d = tf.constant([\n",
    "    [[[1,2,0],\n",
    "     [3,5,-1]],\n",
    "    \n",
    "    [[10,2,0],\n",
    "     [1,0,2]],\n",
    "    \n",
    "    [[5,8,0],\n",
    "     [2,7,0]],\n",
    "    \n",
    "    [[2,1,9],\n",
    "     [4,-3,32]]],\n",
    "     [[[1,2,0],\n",
    "     [3,5,-1]],\n",
    "    \n",
    "    [[10,2,0],\n",
    "     [1,0,2]],\n",
    "    \n",
    "    [[5,8,0],\n",
    "     [2,7,0]],\n",
    "    \n",
    "    [[2,1,9],\n",
    "     [4,-3,32]]]\n",
    "], dtype=tf.float32)\n",
    "print(tensor_four_d.shape)\n",
    "print(tensor_four_d.ndim)\n",
    "print(tensor_four_d)"
   ]
  },
  {
   "cell_type": "code",
   "execution_count": 7,
   "id": "82b81718-59db-466d-b5d1-511ad5eb6afa",
   "metadata": {
    "tags": []
   },
   "outputs": [],
   "source": [
    "import numpy as np"
   ]
  },
  {
   "cell_type": "code",
   "execution_count": 8,
   "id": "3e16d34e-b101-4735-b480-7326b4381037",
   "metadata": {
    "tags": []
   },
   "outputs": [
    {
     "name": "stdout",
     "output_type": "stream",
     "text": [
      "tf.Tensor([ 2.  0. -3.  8. 90.], shape=(5,), dtype=float32)\n",
      "tf.Tensor([ True False  True  True  True], shape=(5,), dtype=bool)\n"
     ]
    }
   ],
   "source": [
    "casted_tensor_one_d = tf.cast(tensor_one_d, dtype=tf.bool)\n",
    "print(tensor_one_d)\n",
    "print(casted_tensor_one_d)"
   ]
  },
  {
   "cell_type": "code",
   "execution_count": 9,
   "id": "ceccc79d-40ff-4c29-8999-98cf7185b82f",
   "metadata": {
    "tags": []
   },
   "outputs": [
    {
     "name": "stdout",
     "output_type": "stream",
     "text": [
      "tf.Tensor([ True  True False], shape=(3,), dtype=bool)\n"
     ]
    }
   ],
   "source": [
    "tensor_bool = tf.constant([True, True, False])\n",
    "print(tensor_bool)"
   ]
  },
  {
   "cell_type": "code",
   "execution_count": 10,
   "id": "14d186cb-042a-4968-9e24-1b6509d94e76",
   "metadata": {
    "tags": []
   },
   "outputs": [],
   "source": [
    "casted_string = tf.constant([\"hello world\", \"hi\"])"
   ]
  },
  {
   "cell_type": "code",
   "execution_count": 11,
   "id": "c38d48d0-ba0a-420e-8cfd-b87478b27b29",
   "metadata": {
    "tags": []
   },
   "outputs": [
    {
     "name": "stdout",
     "output_type": "stream",
     "text": [
      "[1 2 4]\n"
     ]
    }
   ],
   "source": [
    "np_array = np.array([1,2,4])\n",
    "print(np_array)"
   ]
  },
  {
   "cell_type": "code",
   "execution_count": 12,
   "id": "760d3b76-399d-4d87-8da5-02e296e5d929",
   "metadata": {
    "tags": []
   },
   "outputs": [
    {
     "name": "stdout",
     "output_type": "stream",
     "text": [
      "tf.Tensor([1 2 4], shape=(3,), dtype=int32)\n"
     ]
    }
   ],
   "source": [
    "converted_tensor = tf.convert_to_tensor(np_array)\n",
    "print(converted_tensor)"
   ]
  },
  {
   "cell_type": "code",
   "execution_count": 13,
   "id": "86c7d1fc-92b8-4478-bd04-237058060c31",
   "metadata": {
    "tags": []
   },
   "outputs": [
    {
     "name": "stdout",
     "output_type": "stream",
     "text": [
      "tf.Tensor(\n",
      "[[[[ True False False]\n",
      "   [False  True False]\n",
      "   [False False  True]\n",
      "   [False False False]\n",
      "   [False False False]]\n",
      "\n",
      "  [[ True False False]\n",
      "   [False  True False]\n",
      "   [False False  True]\n",
      "   [False False False]\n",
      "   [False False False]]]\n",
      "\n",
      "\n",
      " [[[ True False False]\n",
      "   [False  True False]\n",
      "   [False False  True]\n",
      "   [False False False]\n",
      "   [False False False]]\n",
      "\n",
      "  [[ True False False]\n",
      "   [False  True False]\n",
      "   [False False  True]\n",
      "   [False False False]\n",
      "   [False False False]]]], shape=(2, 2, 5, 3), dtype=bool)\n"
     ]
    }
   ],
   "source": [
    "eye_tensor = tf.eye(num_rows=5, num_columns=3, dtype=tf.bool, batch_shape=[2,2])\n",
    "print(eye_tensor)"
   ]
  },
  {
   "cell_type": "code",
   "execution_count": 14,
   "id": "82be5a1b",
   "metadata": {},
   "outputs": [
    {
     "data": {
      "text/plain": [
       "<tf.Tensor: shape=(1, 3, 4), dtype=int32, numpy=\n",
       "array([[[5, 5, 5, 5],\n",
       "        [5, 5, 5, 5],\n",
       "        [5, 5, 5, 5]]])>"
      ]
     },
     "execution_count": 14,
     "metadata": {},
     "output_type": "execute_result"
    }
   ],
   "source": [
    "fill_tensor = tf.fill([1,3,4],5, name=None)\n",
    "fill_tensor"
   ]
  },
  {
   "cell_type": "code",
   "execution_count": 15,
   "id": "d3226225",
   "metadata": {},
   "outputs": [
    {
     "data": {
      "text/plain": [
       "<tf.Tensor: shape=(5, 3), dtype=float32, numpy=\n",
       "array([[1., 1., 1.],\n",
       "       [1., 1., 1.],\n",
       "       [1., 1., 1.],\n",
       "       [1., 1., 1.],\n",
       "       [1., 1., 1.]], dtype=float32)>"
      ]
     },
     "execution_count": 15,
     "metadata": {},
     "output_type": "execute_result"
    }
   ],
   "source": [
    "ones_tensor = tf.ones([5,3], dtype=tf.float32)\n",
    "ones_tensor"
   ]
  },
  {
   "cell_type": "code",
   "execution_count": 16,
   "id": "2f2f9963",
   "metadata": {},
   "outputs": [],
   "source": [
    "ones_like_tensor = tf.ones_like(fill_tensor)"
   ]
  },
  {
   "cell_type": "code",
   "execution_count": 17,
   "id": "d788f111",
   "metadata": {},
   "outputs": [
    {
     "data": {
      "text/plain": [
       "<tf.Tensor: shape=(1, 3, 4), dtype=int32, numpy=\n",
       "array([[[5, 5, 5, 5],\n",
       "        [5, 5, 5, 5],\n",
       "        [5, 5, 5, 5]]])>"
      ]
     },
     "execution_count": 17,
     "metadata": {},
     "output_type": "execute_result"
    }
   ],
   "source": [
    "fill_tensor"
   ]
  },
  {
   "cell_type": "code",
   "execution_count": 18,
   "id": "4d7db535",
   "metadata": {},
   "outputs": [
    {
     "data": {
      "text/plain": [
       "<tf.Tensor: shape=(1, 3, 4), dtype=int32, numpy=\n",
       "array([[[1, 1, 1, 1],\n",
       "        [1, 1, 1, 1],\n",
       "        [1, 1, 1, 1]]])>"
      ]
     },
     "execution_count": 18,
     "metadata": {},
     "output_type": "execute_result"
    }
   ],
   "source": [
    "ones_like_tensor"
   ]
  },
  {
   "cell_type": "code",
   "execution_count": 19,
   "id": "aebd1c77",
   "metadata": {},
   "outputs": [
    {
     "data": {
      "text/plain": [
       "<tf.Tensor: shape=(3, 2), dtype=float32, numpy=\n",
       "array([[0., 0.],\n",
       "       [0., 0.],\n",
       "       [0., 0.]], dtype=float32)>"
      ]
     },
     "execution_count": 19,
     "metadata": {},
     "output_type": "execute_result"
    }
   ],
   "source": [
    "zeros_tensor = tf.zeros([3,2], dtype=tf.float32)\n",
    "zeros_tensor"
   ]
  },
  {
   "cell_type": "code",
   "execution_count": 20,
   "id": "814c4cc9",
   "metadata": {},
   "outputs": [
    {
     "data": {
      "text/plain": [
       "TensorShape([4, 2, 3])"
      ]
     },
     "execution_count": 20,
     "metadata": {},
     "output_type": "execute_result"
    }
   ],
   "source": [
    "tensor_three_d.shape"
   ]
  },
  {
   "cell_type": "code",
   "execution_count": 21,
   "id": "25f935d5",
   "metadata": {},
   "outputs": [
    {
     "data": {
      "text/plain": [
       "<tf.Tensor: shape=(3,), dtype=int32, numpy=array([4, 2, 3])>"
      ]
     },
     "execution_count": 21,
     "metadata": {},
     "output_type": "execute_result"
    }
   ],
   "source": [
    "tf.shape(tensor_three_d)"
   ]
  },
  {
   "cell_type": "code",
   "execution_count": 22,
   "id": "f3a30472",
   "metadata": {},
   "outputs": [
    {
     "data": {
      "text/plain": [
       "<tf.Tensor: shape=(), dtype=int32, numpy=3>"
      ]
     },
     "execution_count": 22,
     "metadata": {},
     "output_type": "execute_result"
    }
   ],
   "source": [
    "tf.rank(tensor_three_d)"
   ]
  },
  {
   "cell_type": "code",
   "execution_count": 23,
   "id": "eecff6f6",
   "metadata": {},
   "outputs": [
    {
     "data": {
      "text/plain": [
       "<tf.Tensor: shape=(), dtype=int32, numpy=2>"
      ]
     },
     "execution_count": 23,
     "metadata": {},
     "output_type": "execute_result"
    }
   ],
   "source": [
    "t = tf.constant([[1,1,1], [2,2,2], [3,3,3], [4,4,4]])\n",
    "tf.rank(t)"
   ]
  },
  {
   "cell_type": "code",
   "execution_count": 24,
   "id": "bfde6c29",
   "metadata": {},
   "outputs": [
    {
     "data": {
      "text/plain": [
       "<tf.Tensor: shape=(), dtype=int32, numpy=12>"
      ]
     },
     "execution_count": 24,
     "metadata": {},
     "output_type": "execute_result"
    }
   ],
   "source": [
    "tf.size(t)"
   ]
  },
  {
   "cell_type": "code",
   "execution_count": 25,
   "id": "7235f3bd",
   "metadata": {},
   "outputs": [
    {
     "data": {
      "text/plain": [
       "<tf.Tensor: shape=(), dtype=float32, numpy=6.0>"
      ]
     },
     "execution_count": 25,
     "metadata": {},
     "output_type": "execute_result"
    }
   ],
   "source": [
    "t_2 = tf.constant([[1,1,1], [2,2,2]])\n",
    "tf.size(t_2, out_type=tf.float32)"
   ]
  },
  {
   "cell_type": "code",
   "execution_count": 58,
   "id": "d1d13c1c",
   "metadata": {},
   "outputs": [
    {
     "data": {
      "text/plain": [
       "<tf.Tensor: shape=(3, 2), dtype=float32, numpy=\n",
       "array([[142.90358, 144.45447],\n",
       "       [142.56549, 145.59782],\n",
       "       [143.29736, 143.14458]], dtype=float32)>"
      ]
     },
     "execution_count": 58,
     "metadata": {},
     "output_type": "execute_result"
    }
   ],
   "source": [
    "# stddev: σ\n",
    "random_tensor = tf.random.normal([3,2], stddev=1.0, mean=144.0, dtype=tf.float32)\n",
    "random_tensor"
   ]
  },
  {
   "cell_type": "code",
   "execution_count": 317,
   "id": "90c82e6a",
   "metadata": {},
   "outputs": [
    {
     "data": {
      "text/plain": [
       "<tf.Tensor: shape=(5, 3), dtype=int32, numpy=\n",
       "array([[3, 3, 4],\n",
       "       [3, 3, 4],\n",
       "       [1, 0, 1],\n",
       "       [3, 3, 0],\n",
       "       [0, 1, 4]])>"
      ]
     },
     "execution_count": 317,
     "metadata": {},
     "output_type": "execute_result"
    }
   ],
   "source": [
    "random_tensor = tf.random.uniform([5,3], minval=0, maxval=5, dtype=tf.int32, seed=10)\n",
    "random_tensor"
   ]
  },
  {
   "cell_type": "code",
   "execution_count": 323,
   "id": "7b198c36",
   "metadata": {},
   "outputs": [
    {
     "name": "stdout",
     "output_type": "stream",
     "text": [
      "tf.Tensor([4 3 1], shape=(3,), dtype=int32)\n",
      "tf.Tensor([4 3 2], shape=(3,), dtype=int32)\n",
      "tf.Tensor([1 1 1], shape=(3,), dtype=int32)\n",
      "tf.Tensor([1 3 3], shape=(3,), dtype=int32)\n",
      "tf.Tensor([4 2 2], shape=(3,), dtype=int32)\n"
     ]
    }
   ],
   "source": [
    "tf.random.set_seed(5)\n",
    "print(tf.random.uniform([3,], minval=0, maxval=5, dtype=tf.int32, seed=10))\n",
    "print(tf.random.uniform([3,], minval=0, maxval=5, dtype=tf.int32, seed=10))\n",
    "print(tf.random.uniform([3,], minval=0, maxval=5, dtype=tf.int32, seed=10))\n",
    "print(tf.random.uniform([3,], minval=0, maxval=5, dtype=tf.int32, seed=10))\n",
    "print(tf.random.uniform([3,], minval=0, maxval=5, dtype=tf.int32, seed=10))"
   ]
  },
  {
   "cell_type": "code",
   "execution_count": 326,
   "id": "fb1d77ef",
   "metadata": {},
   "outputs": [
    {
     "name": "stdout",
     "output_type": "stream",
     "text": [
      "tf.Tensor([4 3 1], shape=(3,), dtype=int32)\n",
      "tf.Tensor([4 3 2], shape=(3,), dtype=int32)\n",
      "tf.Tensor([1 1 1], shape=(3,), dtype=int32)\n",
      "tf.Tensor([1 3 3], shape=(3,), dtype=int32)\n",
      "tf.Tensor([4 2 2], shape=(3,), dtype=int32)\n"
     ]
    }
   ],
   "source": [
    "tf.random.set_seed(5)\n",
    "print(tf.random.uniform([3,], minval=0, maxval=5, dtype=tf.int32, seed=10))\n",
    "print(tf.random.uniform([3,], minval=0, maxval=5, dtype=tf.int32, seed=10))\n",
    "print(tf.random.uniform([3,], minval=0, maxval=5, dtype=tf.int32, seed=10))\n",
    "print(tf.random.uniform([3,], minval=0, maxval=5, dtype=tf.int32, seed=10))\n",
    "print(tf.random.uniform([3,], minval=0, maxval=5, dtype=tf.int32, seed=10))"
   ]
  },
  {
   "cell_type": "markdown",
   "id": "ae1db895",
   "metadata": {},
   "source": [
    "## 1.2 Tensor Indexing"
   ]
  },
  {
   "cell_type": "code",
   "execution_count": 17,
   "id": "3bd612db",
   "metadata": {},
   "outputs": [
    {
     "name": "stdout",
     "output_type": "stream",
     "text": [
      "3\n",
      "[3 6 2 4]\n",
      "[6 2 4 6 66]\n",
      "[6 2 4]\n"
     ]
    }
   ],
   "source": [
    "tensor_indexed = tf.constant([3,6,2,4,6,66,7])\n",
    "tf.print(tensor_indexed[0])\n",
    "tf.print(tensor_indexed[0:4])\n",
    "tf.print(tensor_indexed[1:6:1])\n",
    "\n",
    "min_index = 1\n",
    "max_index = 4\n",
    "step = 1\n",
    "tf.print(tensor_indexed[min_index:max_index:step])"
   ]
  },
  {
   "cell_type": "code",
   "execution_count": 18,
   "id": "69933dec",
   "metadata": {},
   "outputs": [
    {
     "data": {
      "text/plain": [
       "<tf.Tensor: shape=(3,), dtype=int32, numpy=array([ 4,  6, 66])>"
      ]
     },
     "execution_count": 18,
     "metadata": {},
     "output_type": "execute_result"
    }
   ],
   "source": [
    "tensor_indexed[3:-1]"
   ]
  },
  {
   "cell_type": "code",
   "execution_count": 32,
   "id": "f14a00ea",
   "metadata": {},
   "outputs": [
    {
     "name": "stdout",
     "output_type": "stream",
     "text": [
      "tf.Tensor(9, shape=(), dtype=int32)\n",
      "tf.Tensor([8 9], shape=(2,), dtype=int32)\n",
      "tf.Tensor([4 7], shape=(2,), dtype=int32)\n",
      "tf.Tensor([ 3  6  9 12], shape=(4,), dtype=int32)\n"
     ]
    }
   ],
   "source": [
    "tensor_two_d = tf.constant([\n",
    "    [1,2,3],\n",
    "    [4,5,6],\n",
    "    [7,8,9],\n",
    "    [10,11,12],\n",
    "])\n",
    "\n",
    "# ROWS , COLS\n",
    "print(tensor_two_d[2,2])\n",
    "print(tensor_two_d[2,1:])\n",
    "print(tensor_two_d[1:3,0])\n",
    "print(tensor_two_d[..., 2])"
   ]
  },
  {
   "cell_type": "code",
   "execution_count": 50,
   "id": "39118455",
   "metadata": {},
   "outputs": [],
   "source": [
    "tensor_three_d = tf.constant([\n",
    "    [[1,2,3], [4,5,6], [7,8,9]],\n",
    "    [[10,11,12], [13,14,15], [16,17,18]],\n",
    "    [[19,20,21], [22,23,24], [25,26,27]],\n",
    "])"
   ]
  },
  {
   "cell_type": "code",
   "execution_count": 46,
   "id": "e623ff8b",
   "metadata": {},
   "outputs": [
    {
     "name": "stdout",
     "output_type": "stream",
     "text": [
      "tf.Tensor(5, shape=(), dtype=int32)\n"
     ]
    }
   ],
   "source": [
    "print(tensor_three_d[0, 1, 1])"
   ]
  },
  {
   "cell_type": "code",
   "execution_count": 47,
   "id": "eae9d2b2",
   "metadata": {},
   "outputs": [
    {
     "name": "stdout",
     "output_type": "stream",
     "text": [
      "tf.Tensor([ 4 13], shape=(2,), dtype=int32)\n"
     ]
    }
   ],
   "source": [
    "print(tensor_three_d[0:2, 1, 0])"
   ]
  },
  {
   "cell_type": "code",
   "execution_count": 48,
   "id": "5e322e86",
   "metadata": {},
   "outputs": [
    {
     "name": "stdout",
     "output_type": "stream",
     "text": [
      "tf.Tensor(\n",
      "[[1 2 3]\n",
      " [4 5 6]\n",
      " [7 8 9]], shape=(3, 3), dtype=int32)\n"
     ]
    }
   ],
   "source": [
    "print(tensor_three_d[0, :, :])"
   ]
  },
  {
   "cell_type": "code",
   "execution_count": 49,
   "id": "716a84f1",
   "metadata": {},
   "outputs": [
    {
     "name": "stdout",
     "output_type": "stream",
     "text": [
      "tf.Tensor(\n",
      "[[ 3  6  9]\n",
      " [12 15 18]], shape=(2, 3), dtype=int32)\n"
     ]
    }
   ],
   "source": [
    "print(tensor_three_d[0:2, : , 2])"
   ]
  },
  {
   "cell_type": "markdown",
   "id": "77ac824d",
   "metadata": {},
   "source": [
    "# 2. Math Operations"
   ]
  },
  {
   "cell_type": "code",
   "execution_count": 55,
   "id": "0e54ddff",
   "metadata": {},
   "outputs": [
    {
     "data": {
      "text/plain": [
       "<tf.Tensor: shape=(2,), dtype=float32, numpy=array([2.25, 3.25], dtype=float32)>"
      ]
     },
     "execution_count": 55,
     "metadata": {},
     "output_type": "execute_result"
    }
   ],
   "source": [
    "x_ab = tf.abs(tf.constant([-2.25, 3.25]))\n",
    "x_ab"
   ]
  },
  {
   "cell_type": "code",
   "execution_count": 60,
   "id": "f906aaf6",
   "metadata": {},
   "outputs": [
    {
     "data": {
      "text/plain": [
       "<tf.Tensor: shape=(1,), dtype=float64, numpy=array([5.25594901])>"
      ]
     },
     "execution_count": 60,
     "metadata": {},
     "output_type": "execute_result"
    }
   ],
   "source": [
    "x_abs_complex = tf.constant([-2.25 + 4.75j])\n",
    "tf.abs(x_abs_complex)"
   ]
  },
  {
   "cell_type": "code",
   "execution_count": 66,
   "id": "41a625e1",
   "metadata": {},
   "outputs": [
    {
     "data": {
      "text/plain": [
       "<tf.Tensor: shape=(), dtype=float32, numpy=5.255949>"
      ]
     },
     "execution_count": 66,
     "metadata": {},
     "output_type": "execute_result"
    }
   ],
   "source": [
    "tf.sqrt((-2.25)**2 + 4.75**2)"
   ]
  },
  {
   "cell_type": "code",
   "execution_count": null,
   "id": "9f6c194e",
   "metadata": {},
   "outputs": [],
   "source": []
  }
 ],
 "metadata": {
  "kernelspec": {
   "display_name": "py310",
   "language": "python",
   "name": "python3"
  },
  "language_info": {
   "codemirror_mode": {
    "name": "ipython",
    "version": 3
   },
   "file_extension": ".py",
   "mimetype": "text/x-python",
   "name": "python",
   "nbconvert_exporter": "python",
   "pygments_lexer": "ipython3",
   "version": "3.10.13"
  }
 },
 "nbformat": 4,
 "nbformat_minor": 5
}
