{
 "cells": [
  {
   "cell_type": "markdown",
   "metadata": {},
   "source": [
    "# Einsum Operator"
   ]
  },
  {
   "cell_type": "markdown",
   "metadata": {},
   "source": [
    "# 1. Import Dependencies"
   ]
  },
  {
   "cell_type": "code",
   "execution_count": 1,
   "metadata": {},
   "outputs": [],
   "source": [
    "import numpy as np"
   ]
  },
  {
   "cell_type": "code",
   "execution_count": 28,
   "metadata": {},
   "outputs": [
    {
     "data": {
      "text/plain": [
       "((3, 4), (4, 5))"
      ]
     },
     "execution_count": 28,
     "metadata": {},
     "output_type": "execute_result"
    }
   ],
   "source": [
    "A = np.array([\n",
    "    [2, 6, 5, 2],\n",
    "    [2, -2, 2, 3],\n",
    "    [1, 5, 4, 0],\n",
    "])\n",
    "\n",
    "B = np.array([\n",
    "    [2, 9, 0, 3, 0],\n",
    "    [3, 6, 8, -2, 2],\n",
    "    [1, 3, 5, 0, 1],\n",
    "    [3, 0, 2, 0, 5]\n",
    "])\n",
    "\n",
    "A.shape, B.shape"
   ]
  },
  {
   "cell_type": "code",
   "execution_count": 29,
   "metadata": {},
   "outputs": [
    {
     "data": {
      "text/plain": [
       "array([[33, 69, 77, -6, 27],\n",
       "       [ 9, 12,  0, 10, 13],\n",
       "       [21, 51, 60, -7, 14]])"
      ]
     },
     "execution_count": 29,
     "metadata": {},
     "output_type": "execute_result"
    }
   ],
   "source": [
    "np.matmul(A, B)"
   ]
  },
  {
   "cell_type": "code",
   "execution_count": 30,
   "metadata": {},
   "outputs": [
    {
     "data": {
      "text/plain": [
       "array([[33, 69, 77, -6, 27],\n",
       "       [ 9, 12,  0, 10, 13],\n",
       "       [21, 51, 60, -7, 14]])"
      ]
     },
     "execution_count": 30,
     "metadata": {},
     "output_type": "execute_result"
    }
   ],
   "source": [
    "np.einsum('ij,jk -> ik', A,B)"
   ]
  },
  {
   "cell_type": "code",
   "execution_count": 32,
   "metadata": {},
   "outputs": [
    {
     "name": "stdout",
     "output_type": "stream",
     "text": [
      "Hardamond C := \n",
      "\n",
      "[[  4  54   0   6]\n",
      " [  6 -12  16  -6]\n",
      " [  1  15  20   0]] \n",
      "\n",
      "Einsum C =: \n",
      "\n",
      "[[  4  54   0   6]\n",
      " [  6 -12  16  -6]\n",
      " [  1  15  20   0]]\n"
     ]
    }
   ],
   "source": [
    "C = np.array([\n",
    "    [2, 6, 5, 2],\n",
    "    [2, -2, 2, 3],\n",
    "    [1, 5, 4, 0],\n",
    "])\n",
    "\n",
    "D = np.array([\n",
    "    [2, 9, 0, 3],\n",
    "    [3, 6, 8, -2],\n",
    "    [1, 3, 5, 0],\n",
    "])\n",
    "\n",
    "print(\"Hardamond C := \\n\")\n",
    "print(C*D, \"\\n\")\n",
    "\n",
    "print(\"Einsum C =: \\n\")\n",
    "print(np.einsum('ij, ij -> ij', C,D))"
   ]
  },
  {
   "cell_type": "code",
   "execution_count": 41,
   "metadata": {},
   "outputs": [
    {
     "name": "stdout",
     "output_type": "stream",
     "text": [
      "Transpose A =: \n",
      "\n",
      "[[ 2  2  1]\n",
      " [ 6 -2  5]\n",
      " [ 5  2  4]\n",
      " [ 2  3  0]] \n",
      "\n",
      "Einsum Transpose A =: \n",
      "\n",
      "[[ 2  2  1]\n",
      " [ 6 -2  5]\n",
      " [ 5  2  4]\n",
      " [ 2  3  0]]\n"
     ]
    }
   ],
   "source": [
    "print(\"Transpose A =: \\n\")\n",
    "print(A.T, \"\\n\")\n",
    "\n",
    "print(\"Einsum Transpose A =: \\n\")\n",
    "print(np.einsum(\"ij -> ji\", A))"
   ]
  },
  {
   "cell_type": "code",
   "execution_count": 44,
   "metadata": {},
   "outputs": [
    {
     "data": {
      "text/plain": [
       "((2, 3, 4), (2, 4, 5))"
      ]
     },
     "execution_count": 44,
     "metadata": {},
     "output_type": "execute_result"
    }
   ],
   "source": [
    "E = np.array([\n",
    "   [[2, 6, 5, 2],\n",
    "    [2, -2, 2, 3],\n",
    "    [1, 5, 4, 0]],\n",
    "   [[1, 3, 1, 22],\n",
    "    [0, 2, 2, 0],\n",
    "    [1, 5, 4, 1]]\n",
    "])\n",
    "\n",
    "F = np.array([\n",
    "   [[2, 9, 0, 3, 0],\n",
    "    [3, 6, 8, -2, 2],\n",
    "    [1, 3, 5, 0, 1],\n",
    "    [3, 0, 2, 0, 5]],\n",
    "   \n",
    "   [[1, 0, 0, 3, 0],\n",
    "    [3, 0, 4, -2, 2],\n",
    "    [1, 0, 2, 0, 0],\n",
    "    [3, 0, 1, 1, 0]]\n",
    "])\n",
    "\n",
    "E.shape, F.shape"
   ]
  },
  {
   "cell_type": "code",
   "execution_count": 46,
   "metadata": {},
   "outputs": [
    {
     "name": "stdout",
     "output_type": "stream",
     "text": [
      "Batch Multiplication G := \n",
      "\n",
      "[[[33 69 77 -6 27]\n",
      "  [ 9 12  0 10 13]\n",
      "  [21 51 60 -7 14]]\n",
      "\n",
      " [[77  0 36 19  6]\n",
      "  [ 8  0 12 -4  4]\n",
      "  [23  0 29 -6 10]]] \n",
      "\n"
     ]
    }
   ],
   "source": [
    "print(\"Batch Multiplication G := \\n\")\n",
    "print(np.matmul(E,F), \"\\n\")"
   ]
  },
  {
   "cell_type": "code",
   "execution_count": 47,
   "metadata": {},
   "outputs": [
    {
     "name": "stdout",
     "output_type": "stream",
     "text": [
      "Einsum G := \n",
      "\n",
      "[[[33 69 77 -6 27]\n",
      "  [ 9 12  0 10 13]\n",
      "  [21 51 60 -7 14]]\n",
      "\n",
      " [[77  0 36 19  6]\n",
      "  [ 8  0 12 -4  4]\n",
      "  [23  0 29 -6 10]]]\n"
     ]
    }
   ],
   "source": [
    "print(\"Einsum G := \\n\")\n",
    "print(np.einsum('bij, bjk -> bik', E, F))"
   ]
  },
  {
   "cell_type": "code",
   "execution_count": 54,
   "metadata": {},
   "outputs": [
    {
     "name": "stdout",
     "output_type": "stream",
     "text": [
      "Axix 0 Sum A =: \n",
      "\n",
      "[ 5  9 11  5] \n",
      "\n",
      "Einsum A =: \n",
      "\n",
      "[ 5  9 11  5]\n",
      "------------------------------\n",
      "Axix 1 Sum A =: \n",
      "\n",
      "[15  5 10] \n",
      "\n",
      "Einsum A =: \n",
      "\n",
      "[15  5 10]\n"
     ]
    }
   ],
   "source": [
    "A = np.array([\n",
    "    [2, 6, 5, 2],\n",
    "    [2, -2, 2, 3],\n",
    "    [1, 5, 4, 0],\n",
    "])\n",
    "\n",
    "print('Axix 0 Sum A =: \\n')\n",
    "print(np.sum(A, axis=0), \"\\n\")\n",
    "\n",
    "print('Einsum A =: \\n')\n",
    "print(np.einsum(\"ij -> j\", A))\n",
    "print(\"------------------------------\")\n",
    "\n",
    "print('Axix 1 Sum A =: \\n')\n",
    "print(np.sum(A, axis=1), \"\\n\")\n",
    "\n",
    "print('Einsum A =: \\n')\n",
    "print(np.einsum(\"ij -> i\", A))\n"
   ]
  },
  {
   "cell_type": "code",
   "execution_count": null,
   "metadata": {},
   "outputs": [],
   "source": []
  }
 ],
 "metadata": {
  "kernelspec": {
   "display_name": "py310",
   "language": "python",
   "name": "python3"
  },
  "language_info": {
   "codemirror_mode": {
    "name": "ipython",
    "version": 3
   },
   "file_extension": ".py",
   "mimetype": "text/x-python",
   "name": "python",
   "nbconvert_exporter": "python",
   "pygments_lexer": "ipython3",
   "version": "3.10.13"
  }
 },
 "nbformat": 4,
 "nbformat_minor": 2
}
